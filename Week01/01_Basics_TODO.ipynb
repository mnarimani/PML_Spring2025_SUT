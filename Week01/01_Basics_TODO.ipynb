{
 "cells": [
  {
   "cell_type": "markdown",
   "id": "5cebd354-563d-4782-a454-9aefdee6cfa9",
   "metadata": {},
   "source": [
    "## Python Lab: Basic Syntax & Features\n",
    "> Principles of ML course - Spring 2025 - Sharif <br>\n",
    "> Lab sessions - Session 1 - February 15, 2025 <br>\n",
    "> Author: M Narimani <br>"
   ]
  },
  {
   "cell_type": "markdown",
   "id": "bb8916c0-ceea-44db-bae0-98e7f418ae93",
   "metadata": {},
   "source": [
    "<table align=\"left\">\n",
    "  <td>\n",
    "    <a href=\"https://colab.research.google.com/github/mnarimani/PML_Spring2025_SUT/tree/main/Week01/01_Basics_TODO.ipynb\" target=\"_parent\"><img src=\"https://colab.research.google.com/assets/colab-badge.svg\" alt=\"Open In Colab\"/></a>\n",
    "  </td>\n",
    "  <td>\n",
    "    <a target=\"_blank\" href=\"https://kaggle.com/kernels/welcome?src=https://github.com/mnarimani/PML_Spring2025_SUT/tree/main/Week01/01_Basics_TODO.ipynb\"><img src=\"https://kaggle.com/static/images/open-in-kaggle.svg\" /></a>\n",
    "  </td>\n",
    "</table>"
   ]
  },
  {
   "cell_type": "markdown",
   "id": "bef37334-8975-4dde-8748-c3d87b8b42ba",
   "metadata": {},
   "source": [
    "## 1.2 Primitive Data Types\n",
    "#### Integer operations\n",
    ">**TODO:** Calculate the area of a rectangle with `width=15` and `height=30`"
   ]
  },
  {
   "cell_type": "code",
   "execution_count": null,
   "id": "196cb622-47e7-4249-adb9-51c35958ef47",
   "metadata": {},
   "outputs": [],
   "source": [
    "width = 15\n",
    "height = 30\n",
    "# area = \n",
    "# print(\"Area:\", area)"
   ]
  },
  {
   "cell_type": "markdown",
   "id": "e5b26d8b-fda6-4689-aade-2bca399cd2b9",
   "metadata": {},
   "source": [
    "# Floating-point precision\n",
    ">**TODO:** Demonstrate floating-point precision issue with 0.1 + 0.2"
   ]
  },
  {
   "cell_type": "code",
   "execution_count": null,
   "id": "5ade0b54-f1da-4ed6-b8e7-427e71a46504",
   "metadata": {},
   "outputs": [],
   "source": [
    "# result = \n",
    "# print(\"0.1 + 0.2 =\", result)"
   ]
  },
  {
   "cell_type": "markdown",
   "id": "9de3d055-ea4d-4846-992a-f7331f00e596",
   "metadata": {},
   "source": [
    "# Boolean logic\n",
    ">**TODO:** Create a boolean expression checking if a number is between `10` and `20`"
   ]
  },
  {
   "cell_type": "code",
   "execution_count": null,
   "id": "92253abe-c738-49fd-ba3d-d1cef73e39fe",
   "metadata": {},
   "outputs": [],
   "source": [
    "number = 15\n",
    "# is_between = \n",
    "# print(\"Is between 10-20:\", is_between)"
   ]
  },
  {
   "cell_type": "markdown",
   "id": "f9d95c9c-3fa6-4f61-95b0-e901fdeedaeb",
   "metadata": {},
   "source": [
    "### 1.2.4 String Manipulation\n",
    ">**TODO:** Create a formatted string showing today's temperature: `Current temperature: 22.5°C`"
   ]
  },
  {
   "cell_type": "code",
   "execution_count": null,
   "id": "b8f4ccda-3f5f-4a95-a190-62fb3881af26",
   "metadata": {},
   "outputs": [],
   "source": [
    "temperature = 22.5\n",
    "# weather_report = f\"???\"\n",
    "# print(weather_report)"
   ]
  },
  {
   "cell_type": "markdown",
   "id": "1efa8dbc-2f57-4d67-992d-c11d6fc282c8",
   "metadata": {},
   "source": [
    ">**TODO:** Convert these values to different types"
   ]
  },
  {
   "cell_type": "code",
   "execution_count": null,
   "id": "b5605184-2987-4334-90c1-fed6bff7ffff",
   "metadata": {},
   "outputs": [],
   "source": [
    "price_str = \"12.99\"\n",
    "# price_float = \n",
    "quantity = 5\n",
    "# quantity_str = "
   ]
  },
  {
   "cell_type": "markdown",
   "id": "c0634c79-96e1-409d-b841-7be1f1bee09b",
   "metadata": {},
   "source": [
    "## 1.3 Control Flow\n",
    ">**TODO:** Write an `if`/`elif`/`else` structure for movie ratings"
   ]
  },
  {
   "cell_type": "code",
   "execution_count": null,
   "id": "7d419e2d-23bc-488c-90bc-04dd4a125e4c",
   "metadata": {},
   "outputs": [],
   "source": [
    "rating = 4\n",
    "# if ???:\n",
    "#     print(\"Poor\")\n",
    "# elif ???:\n",
    "#     print(\"Average\")\n",
    "# else:\n",
    "#     print(\"Excellent\")"
   ]
  },
  {
   "cell_type": "markdown",
   "id": "d426fa86-8a5e-4f8c-8be1-a8525f5faa00",
   "metadata": {},
   "source": [
    "### 1.3.1 Functions\n",
    ">**TODO:** Create a function to calculate restaurant tip (15% default)"
   ]
  },
  {
   "cell_type": "code",
   "execution_count": null,
   "id": "a0a9e19c-2cb1-4042-bc6d-1d654b1bf998",
   "metadata": {},
   "outputs": [],
   "source": [
    "def calculate_tip(bill_amount, tip_percent=15):\n",
    "    # ????\n",
    "    # return ????\n",
    "\n",
    "# print(\"Tip for $50:\", calculate_tip(50))\n",
    "# print(\"Tip for $100 with 20%:\", calculate_tip(100, 20))"
   ]
  },
  {
   "cell_type": "markdown",
   "id": "9b89ad11-4da4-425d-85cb-d602f9e36a2f",
   "metadata": {},
   "source": [
    "### 1.3.2 Lambda Functions\n",
    ">**TODO:** Convert this to `lambda` function"
   ]
  },
  {
   "cell_type": "code",
   "execution_count": null,
   "id": "9340f2ae-1263-4b64-ae03-8633e60ca762",
   "metadata": {},
   "outputs": [],
   "source": [
    "def square(x):\n",
    "    return x ** 2\n",
    "\n",
    "# square_lambda = ????\n",
    "# print(\"Square of 5:\", square_lambda(5))"
   ]
  },
  {
   "cell_type": "markdown",
   "id": "eee62489-c517-4c05-a8d9-12a93ed078d7",
   "metadata": {},
   "source": [
    "#### Exception Handling Challenge\n",
    ">**TODO:** Add error handling for division by zero"
   ]
  },
  {
   "cell_type": "code",
   "execution_count": null,
   "id": "af3450d2-f1df-49f0-9cb0-6236871db107",
   "metadata": {},
   "outputs": [],
   "source": [
    "def safe_divide(a, b):\n",
    "    # ????\n",
    "    # return a / b\n",
    "\n",
    "# print(\"10/2 =\", safe_divide(10, 2))\n",
    "# print(\"10/0 =\", safe_divide(10, 0))"
   ]
  },
  {
   "cell_type": "markdown",
   "id": "51c5012e-77b2-4233-a00c-6dd022f3e0cc",
   "metadata": {},
   "source": [
    "#### Type Conversion Exercise\n",
    ">**TODO:** Fix the type conversion errors"
   ]
  },
  {
   "cell_type": "code",
   "execution_count": null,
   "id": "d1fed9b6-6aab-48cf-b2fa-0d2b4c4636e5",
   "metadata": {},
   "outputs": [],
   "source": [
    "mixed_data = [\"5\", 2.5, \"3.8\", 10, \"100.2\"]\n",
    "# converted = [??? for x in mixed_data]\n",
    "# print(\"Converted values:\", converted)"
   ]
  },
  {
   "cell_type": "markdown",
   "id": "4d470b25-85d3-4f90-83a8-b5419cddcb88",
   "metadata": {},
   "source": [
    "#### Exercise: Recipe Calculator\n",
    ">**TODO:** Calculate total cost of a recipe"
   ]
  },
  {
   "cell_type": "code",
   "execution_count": null,
   "id": "bbbce86d-6404-4dfc-ad00-8278a1a9d792",
   "metadata": {},
   "outputs": [],
   "source": [
    "ingredient_prices = {\n",
    "    \"flour\": 0.5,    # per kg\n",
    "    \"sugar\": 1.2,    # per kg\n",
    "    \"eggs\": 0.3      # per egg\n",
    "}\n",
    "\n",
    "recipe = {\n",
    "    \"flour\": 0.5,   # kg\n",
    "    \"sugar\": 0.2,   # kg\n",
    "    \"eggs\": 4\n",
    "}\n",
    "\n",
    "# total_cost = 0\n",
    "# for ??? in ???:\n",
    "#     total_cost += ????\n",
    "# print(f\"Total recipe cost: ${total_cost:.2f}\")"
   ]
  }
 ],
 "metadata": {
  "kernelspec": {
   "display_name": "Python 3 (ipykernel)",
   "language": "python",
   "name": "python3"
  },
  "language_info": {
   "codemirror_mode": {
    "name": "ipython",
    "version": 3
   },
   "file_extension": ".py",
   "mimetype": "text/x-python",
   "name": "python",
   "nbconvert_exporter": "python",
   "pygments_lexer": "ipython3",
   "version": "3.12.3"
  }
 },
 "nbformat": 4,
 "nbformat_minor": 5
}
