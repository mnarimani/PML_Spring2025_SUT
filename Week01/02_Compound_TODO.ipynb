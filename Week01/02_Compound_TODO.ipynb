{
 "cells": [
  {
   "cell_type": "markdown",
   "id": "b15af76f-ac3a-4ad7-873f-e37250866396",
   "metadata": {},
   "source": [
    "## Python Lab: Compound Data Types & Iteration\n",
    "> Principles of ML course - Spring 2025 - Sharif <br>\n",
    "> Lab sessions - Session 1 - February 15, 2025 <br>\n",
    "> Author: M Narimani <br>"
   ]
  },
  {
   "cell_type": "markdown",
   "id": "5cedc4cf-b9d5-4f8b-b835-6ad64f2c1b07",
   "metadata": {},
   "source": [
    "<table align=\"left\">\n",
    "  <td>\n",
    "    <a href=\"https://colab.research.google.com/github/mnarimani/PML_Spring2025_SUT/blob/main/Week01/02_Compound_TODO.ipynb\" target=\"_parent\"><img src=\"https://colab.research.google.com/assets/colab-badge.svg\" alt=\"Open In Colab\"/></a>\n",
    "  </td>\n",
    "  <td>\n",
    "    <a target=\"_blank\" href=\"https://kaggle.com/kernels/welcome?src=https://github.com/mnarimani/PML_Spring2025_SUT/blob/main/Week01/02_Compound_TODO.ipynb\"><img src=\"https://kaggle.com/static/images/open-in-kaggle.svg\" /></a>\n",
    "  </td>\n",
    "</table>"
   ]
  },
  {
   "cell_type": "markdown",
   "id": "e46a12f5-2e3c-4f6d-a4f0-c2ccf2e19cec",
   "metadata": {},
   "source": [
    "## 2.1 Lists"
   ]
  },
  {
   "cell_type": "code",
   "execution_count": 1,
   "id": "48fadea2-e61d-4f98-ac01-289768db6e82",
   "metadata": {},
   "outputs": [
    {
     "name": "stdout",
     "output_type": "stream",
     "text": [
      "Original list: [1, 4, 9, 16, 25]\n"
     ]
    }
   ],
   "source": [
    "# Create a list of squares\n",
    "squares = [1, 4, 9, 16, 25]\n",
    "print(\"Original list:\", squares)"
   ]
  },
  {
   "cell_type": "markdown",
   "id": "6b77212f-a31c-4bcd-9b42-b44e81ee6948",
   "metadata": {},
   "source": [
    "> **TODO:** Access the third element (should be 9)"
   ]
  },
  {
   "cell_type": "code",
   "execution_count": null,
   "id": "653d014e-81a8-4e15-a855-dfbfc4fd5fac",
   "metadata": {},
   "outputs": [],
   "source": [
    "# third_element = \n",
    "# print(\"Third element:\", third_element)"
   ]
  },
  {
   "cell_type": "markdown",
   "id": "bf67dacd-085b-4d58-b605-0ebc27eecfd3",
   "metadata": {},
   "source": [
    "#### Negative indexing\n",
    "> **TODO:** Get the second element from the end (should be 16)"
   ]
  },
  {
   "cell_type": "code",
   "execution_count": null,
   "id": "e91faeb0-ade7-4c67-bacf-843b6f452f3d",
   "metadata": {},
   "outputs": [],
   "source": [
    "# second_last = \n",
    "# print(\"Second last element:\", second_last)"
   ]
  },
  {
   "cell_type": "markdown",
   "id": "50a16f7e-2f79-48a7-9831-fee4099a046b",
   "metadata": {},
   "source": [
    "#### List operations"
   ]
  },
  {
   "cell_type": "code",
   "execution_count": null,
   "id": "35a452cf-e8aa-4cdd-89a8-d3f8f86c7d3e",
   "metadata": {},
   "outputs": [],
   "source": [
    "primes = [2, 3, 5, 7, 11, 13]"
   ]
  },
  {
   "cell_type": "markdown",
   "id": "750a62ba-5499-4be3-8b5b-d3b97a336ce9",
   "metadata": {},
   "source": [
    "> **TODO:** Remove the last element using `pop()` and print it"
   ]
  },
  {
   "cell_type": "code",
   "execution_count": null,
   "id": "d2233541-b339-49ce-8068-fb9a0e034766",
   "metadata": {},
   "outputs": [],
   "source": [
    "# last_prime = \n",
    "# print(\"Popped prime:\", last_prime)\n",
    "print(\"Remaining primes:\", primes)"
   ]
  },
  {
   "cell_type": "markdown",
   "id": "d71eadc1-1e26-4728-8b35-a7ce8e3dc3bd",
   "metadata": {},
   "source": [
    "> **TODO:** Add 17 to the end using `append()`"
   ]
  },
  {
   "cell_type": "code",
   "execution_count": null,
   "id": "6c8b6c88-a6f0-4187-9924-93e6b7c96626",
   "metadata": {},
   "outputs": [],
   "source": [
    "# primes.????"
   ]
  },
  {
   "cell_type": "markdown",
   "id": "a4ba8d1b-7e81-455a-a53b-5cef0c588ff7",
   "metadata": {},
   "source": [
    "### 2.1.1 For Loops"
   ]
  },
  {
   "cell_type": "code",
   "execution_count": null,
   "id": "8e12788c-f94c-4121-8e64-108261b3980d",
   "metadata": {},
   "outputs": [],
   "source": [
    "# TODO: Create a reversed list manually using a for loop\n",
    "def reverse_list(input_list):\n",
    "    reversed_list = []\n",
    "    # for ??? in ???:\n",
    "    #     ????\n",
    "    return reversed_list\n",
    "\n",
    "print(\"Manual reverse:\", reverse_list([1, 2, 3, 4]))"
   ]
  },
  {
   "cell_type": "markdown",
   "id": "933c5943-e00c-4f30-9bd9-04fb93763302",
   "metadata": {},
   "source": [
    "### 2.1.2 Range Function\n",
    "> **TODO:** Create a list of even numbers from 0-10 using `range()`"
   ]
  },
  {
   "cell_type": "code",
   "execution_count": null,
   "id": "64dd92bf-2946-4bd8-a217-a6677d7884ef",
   "metadata": {},
   "outputs": [],
   "source": [
    "# evens = list(range(???))\n",
    "# print(\"Even numbers:\", evens)"
   ]
  },
  {
   "cell_type": "markdown",
   "id": "18ed199e-6b48-4a87-bb3e-c27969867945",
   "metadata": {},
   "source": [
    "## 2.2 Tuples\n",
    "Tuple packing/unpacking\n",
    "> **TODO:** Swap these variables using tuple unpacking"
   ]
  },
  {
   "cell_type": "code",
   "execution_count": null,
   "id": "31a8c66c-9dd1-462a-be18-448205ee1fa8",
   "metadata": {},
   "outputs": [],
   "source": [
    "a = 5\n",
    "b = 10\n",
    "# ???, ??? = ???, ???\n",
    "print(f\"Swapped values: a={a}, b={b}\")"
   ]
  },
  {
   "cell_type": "markdown",
   "id": "15805fc4-1da4-4fef-bce3-772d81846f3f",
   "metadata": {},
   "source": [
    "## 2.3 Sets\n",
    "> **TODO:** Find unique elements in this list using a `set`"
   ]
  },
  {
   "cell_type": "code",
   "execution_count": null,
   "id": "a52f7ad7-ced8-41ac-acdc-614f3e40b339",
   "metadata": {},
   "outputs": [],
   "source": [
    "duplicates = ['cat', 'dog', 'cat', 'bird', 'dog']\n",
    "# unique_animals = ???\n",
    "# print(\"Unique animals:\", unique_animals)"
   ]
  },
  {
   "cell_type": "code",
   "execution_count": null,
   "id": "07f4f6db-168c-4f7a-9b43-f61ffc8e3a2c",
   "metadata": {},
   "outputs": [],
   "source": [
    "## 2.4 Dictionaries"
   ]
  },
  {
   "cell_type": "code",
   "execution_count": null,
   "id": "22479042-d5b6-4aff-81c4-e5a55679a93e",
   "metadata": {},
   "outputs": [],
   "source": [
    "# Fruit price dictionary\n",
    "prices = {'apple': 1.0, 'orange': 1.5, 'pear': 1.75}"
   ]
  },
  {
   "cell_type": "markdown",
   "id": "470680d5-8d05-4483-aeaa-8429b6973375",
   "metadata": {},
   "source": [
    "> **TODO:** Add `'banana'` with price `0.75` to the dictionary"
   ]
  },
  {
   "cell_type": "code",
   "execution_count": null,
   "id": "d6e917fd-9692-41ed-ad9c-abec68a9d224",
   "metadata": {},
   "outputs": [],
   "source": [
    "# prices[????] = ????"
   ]
  },
  {
   "cell_type": "markdown",
   "id": "fd09c336-7dbf-40f7-af36-91357550da44",
   "metadata": {},
   "source": [
    "> **TODO:** Iterate through items and print them"
   ]
  },
  {
   "cell_type": "code",
   "execution_count": null,
   "id": "2af4e7c0-420c-43ea-b0a3-e7ad73f6826b",
   "metadata": {},
   "outputs": [],
   "source": [
    "# for ???, ??? in ???:\n",
    "#     print(f\"{fruit} costs ${price:.2f}\")"
   ]
  },
  {
   "cell_type": "markdown",
   "id": "d4d6ee75-85a1-4df6-8fc6-dbe3e49e5e22",
   "metadata": {},
   "source": [
    "## 2.5 Looping Techniques\n"
   ]
  },
  {
   "cell_type": "code",
   "execution_count": null,
   "id": "53f17c88-19d2-4b30-ba93-ab12b20b9cca",
   "metadata": {},
   "outputs": [],
   "source": [
    "names = ['Alice', 'Bob', 'Charlie']\n",
    "scores = [85, 92, 78]"
   ]
  },
  {
   "cell_type": "markdown",
   "id": "8354a228-a4b8-4d9c-adbe-11525e4b71e5",
   "metadata": {},
   "source": [
    "> **TODO:** Use `zip()` to print name-score pairs"
   ]
  },
  {
   "cell_type": "code",
   "execution_count": null,
   "id": "be9c5a0b-831d-4479-b8d6-40221b0c1e57",
   "metadata": {},
   "outputs": [],
   "source": [
    "# for ???, ??? in ???:\n",
    "#     print(f\"{name}: {score}\")"
   ]
  },
  {
   "cell_type": "markdown",
   "id": "7442f133-3918-4491-9585-b03aca2e9a27",
   "metadata": {},
   "source": [
    "## 2.6 List Comprehensions\n",
    "> **TODO:** Convert this loop to list comprehension"
   ]
  },
  {
   "cell_type": "code",
   "execution_count": null,
   "id": "937553c2-4947-49c8-be1c-a18e424a1510",
   "metadata": {},
   "outputs": [],
   "source": [
    "# squares = []\n",
    "# for x in range(10):\n",
    "#     squares.append(x**2)\n",
    "# print(squares)\n",
    "# squares_comp = [????]\n",
    "# print(squares_comp)"
   ]
  },
  {
   "cell_type": "markdown",
   "id": "474ac078-a990-4d40-8135-839cd518cff6",
   "metadata": {},
   "source": [
    "> **TODO:** Create list of positive numbers\n"
   ]
  },
  {
   "cell_type": "code",
   "execution_count": null,
   "id": "d183a4e9-ea24-404f-9236-d5a996d4ff67",
   "metadata": {},
   "outputs": [],
   "source": [
    "numbers = [3, -2, 5, -8, 0]\n",
    "# positives = [????]\n",
    "# print(\"Positive numbers:\", positives)"
   ]
  },
  {
   "cell_type": "markdown",
   "id": "41ece225-656c-43f2-b07d-402a0d61c2b6",
   "metadata": {},
   "source": [
    "# 2.6.1 Dictionary Comprehension\n",
    "> **TODO:** Create dictionary {number: square_root}\n"
   ]
  },
  {
   "cell_type": "code",
   "execution_count": null,
   "id": "834ee403-becf-4a26-853b-660a9d8bf73c",
   "metadata": {},
   "outputs": [],
   "source": [
    "import math\n",
    "numbers = [4, 9, 16]\n",
    "# roots = {????}\n",
    "# print(\"Square roots:\", roots)"
   ]
  },
  {
   "cell_type": "markdown",
   "id": "88c15aff-d42a-42b7-80a8-6d844071bf63",
   "metadata": {},
   "source": [
    "## 2.7 Functions\n",
    "> **TODO:** Create function with default argument"
   ]
  },
  {
   "cell_type": "code",
   "execution_count": null,
   "id": "0a74139b-7605-4194-8158-9f194037af0d",
   "metadata": {},
   "outputs": [],
   "source": [
    "def greet(name, greeting=\"Hello\"):\n",
    "    # return ????\n",
    "    pass\n",
    "\n",
    "# print(greet(\"Alice\"))\n",
    "# print(greet(\"Bob\", \"Hi there\"))"
   ]
  },
  {
   "cell_type": "markdown",
   "id": "8c849574-e77f-42e2-a31b-10c0af14ca16",
   "metadata": {},
   "source": [
    "#### Fix the code\n",
    "> **TODO:** Fix the animal printing code"
   ]
  },
  {
   "cell_type": "code",
   "execution_count": null,
   "id": "392c067f-3977-4328-8553-0d174df3286c",
   "metadata": {},
   "outputs": [],
   "source": [
    "animals = [\"dog\", \"cat\", \"tiger\"]\n",
    "# for k in range(len(minials)):  # Error here!\n",
    "#     print(\"Animal\", k, \"is a\", animals[k])"
   ]
  }
 ],
 "metadata": {
  "kernelspec": {
   "display_name": "Python 3 (ipykernel)",
   "language": "python",
   "name": "python3"
  },
  "language_info": {
   "codemirror_mode": {
    "name": "ipython",
    "version": 3
   },
   "file_extension": ".py",
   "mimetype": "text/x-python",
   "name": "python",
   "nbconvert_exporter": "python",
   "pygments_lexer": "ipython3",
   "version": "3.12.3"
  }
 },
 "nbformat": 4,
 "nbformat_minor": 5
}
