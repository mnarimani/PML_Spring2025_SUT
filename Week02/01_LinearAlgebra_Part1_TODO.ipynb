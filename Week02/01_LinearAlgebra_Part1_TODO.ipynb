{
 "cells": [
  {
   "cell_type": "markdown",
   "id": "ce080586-781f-4705-b034-f1d4c9bf0ef8",
   "metadata": {},
   "source": [
    "## Python Lab: Introduction to Linear Algebra: Part 1\n",
    "> Principles of ML course - Spring 2025 - Sharif <br>\n",
    "> Lab sessions - Session 2 - February 22, 2025 <br>\n",
    "> Author: M Narimani <br>\n",
    "> Reference: RT Kneusel, _Math for deep learning_, 2021, Chapters 5 and 6. <br>"
   ]
  },
  {
   "cell_type": "markdown",
   "id": "1cbe2835-de50-48d8-889f-756614ab7a32",
   "metadata": {},
   "source": [
    "<table align=\"left\">\n",
    "  <td>\n",
    "    <a href=\"https://colab.research.google.com/github/mnarimani/PML_Spring2025_SUT/blob/main/Week02/01_LinearAlgebra_Part1_TODO.ipynb\" target=\"_parent\"><img src=\"https://colab.research.google.com/assets/colab-badge.svg\" alt=\"Open In Colab\"/></a>\n",
    "  </td>\n",
    "  <td>\n",
    "    <a target=\"_blank\" href=\"https://kaggle.com/kernels/welcome?src=https://github.com/mnarimani/PML_Spring2025_SUT/blob/main/Week02/01_LinearAlgebra_Part1_TODO.ipynb\"><img src=\"https://kaggle.com/static/images/open-in-kaggle.svg\" /></a>\n",
    "  </td>\n",
    "</table>"
   ]
  },
  {
   "cell_type": "code",
   "execution_count": null,
   "id": "20743f54-56b8-4cc7-94a3-5d06cb5b19a2",
   "metadata": {},
   "outputs": [],
   "source": [
    "import numpy as np"
   ]
  },
  {
   "cell_type": "markdown",
   "id": "41b6c6c3-81f1-497e-92e6-07b3d31b021b",
   "metadata": {},
   "source": [
    "# Part 1\n",
    "## Scalars, Vectors, Matrices, and Tensors"
   ]
  },
  {
   "cell_type": "code",
   "execution_count": null,
   "id": "6b2fbaa1-e766-4f30-84a7-37a1c9c01aec",
   "metadata": {},
   "outputs": [],
   "source": [
    "# Scalars\n",
    "scalar = 5\n",
    "print(\"Scalar:\", scalar)"
   ]
  },
  {
   "cell_type": "code",
   "execution_count": null,
   "id": "896c0dc9-4933-48a4-a9c0-ec8593a672ef",
   "metadata": {},
   "outputs": [],
   "source": [
    "# Vectors\n",
    "vector = np.array([1, 2, 3])\n",
    "print(\"Vector:\", vector)"
   ]
  },
  {
   "cell_type": "code",
   "execution_count": null,
   "id": "6790b824-8909-4487-8c15-45d40b80736a",
   "metadata": {},
   "outputs": [],
   "source": [
    "# Matrices\n",
    "matrix = np.array([[1, 2, 3], [4, 5, 6], [7, 8, 9]])\n",
    "print(\"Matrix:\\n\", matrix)"
   ]
  },
  {
   "cell_type": "code",
   "execution_count": null,
   "id": "4bd59902-482f-4f26-9ab9-8edc1045eef3",
   "metadata": {},
   "outputs": [],
   "source": [
    "# Tensors\n",
    "tensor = np.array([[[1, 2], [3, 4]], [[5, 6], [7, 8]]])\n",
    "print(\"Tensor:\\n\", tensor)"
   ]
  },
  {
   "cell_type": "markdown",
   "id": "a4ff8622-b179-4959-9031-c7d244a90eaf",
   "metadata": {},
   "source": [
    "> **TODO:** Create a 2x2 matrix using NumPy and print it"
   ]
  },
  {
   "cell_type": "code",
   "execution_count": null,
   "id": "0c811278-bbdc-479a-aad6-5b2821f96720",
   "metadata": {},
   "outputs": [],
   "source": [
    "# matrix_2x2 = ?\n",
    "# print(\"2x2 Matrix:\\n\", matrix_2x2)"
   ]
  },
  {
   "cell_type": "markdown",
   "id": "458c1e2d-6218-47aa-b73e-2ed18430319b",
   "metadata": {},
   "source": [
    "## Arithmetic with Tensors"
   ]
  },
  {
   "cell_type": "code",
   "execution_count": null,
   "id": "bd96b4d3-6812-4bb8-8e3d-e31124935a23",
   "metadata": {},
   "outputs": [],
   "source": [
    "# Array Operations\n",
    "a = np.array([[1, 2, 3], [4, 5, 6]])\n",
    "b = np.array([[7, 8, 9], [10, 11, 12]])\n",
    "c = np.array([10, 100, 1000])\n",
    "d = np.array([10, 11])\n",
    "\n",
    "# Element-wise arithmetic\n",
    "print(\"a + b:\\n\", a + b)\n",
    "print(\"a - b:\\n\", a - b)\n",
    "print(\"a * b:\\n\", a * b)\n",
    "print(\"a / b:\\n\", a / b)\n",
    "print(\"b ** a:\\n\", b ** a)"
   ]
  },
  {
   "cell_type": "markdown",
   "id": "5d609b11-1c08-4cbc-a43b-7a9f9596c345",
   "metadata": {},
   "source": [
    "> **TODO:** Perform element-wise multiplication of a and c and print the result"
   ]
  },
  {
   "cell_type": "code",
   "execution_count": null,
   "id": "7355db99-f005-45a6-9ad5-99984db35daa",
   "metadata": {},
   "outputs": [],
   "source": [
    "# print(\"a * c:\\n\", ?)"
   ]
  },
  {
   "cell_type": "markdown",
   "id": "62b33836-19d5-4e70-b05f-f5f5f5b76bda",
   "metadata": {},
   "source": [
    "## Broadcasting\n",
    "<center><img src=\"https://numpy.org/doc/stable/_images/broadcasting_4.png\" alt=\"Numpy Broadcasting\" width=400/></center>"
   ]
  },
  {
   "cell_type": "code",
   "execution_count": null,
   "id": "d30a634e-48cb-49a8-8044-375ff29e8a15",
   "metadata": {},
   "outputs": [],
   "source": [
    "print(\"a + c:\\n\", a + c)\n",
    "print(\"c * a:\\n\", c * a)\n",
    "print(\"a / c:\\n\", a / c)"
   ]
  },
  {
   "cell_type": "markdown",
   "id": "4b3cd666-592c-4021-a800-268c222bf887",
   "metadata": {},
   "source": [
    "> **TODO:** Reshape `d` to a `2x1` matrix and add it to `a`"
   ]
  },
  {
   "cell_type": "code",
   "execution_count": null,
   "id": "41d040d6-c496-4a14-ba17-5fbd72e2bc95",
   "metadata": {},
   "outputs": [],
   "source": [
    "# d_reshaped = ?\n",
    "# print(\"a + d_reshaped:\\n\", a + d_reshaped)"
   ]
  },
  {
   "cell_type": "markdown",
   "id": "9dff5663-c3a0-438b-9058-f20eb3f33e1f",
   "metadata": {},
   "source": [
    "## Vector Operations"
   ]
  },
  {
   "cell_type": "code",
   "execution_count": null,
   "id": "97a6dd99-e77c-4cda-9c97-0ed1cfa3779e",
   "metadata": {},
   "outputs": [],
   "source": [
    "# Magnitude\n",
    "v = np.array([2, -4, 3])\n",
    "magnitude = np.linalg.norm(v)\n",
    "print(\"Magnitude of v:\", magnitude)"
   ]
  },
  {
   "cell_type": "code",
   "execution_count": null,
   "id": "f71b176e-df2a-4858-8278-d7c4fb682795",
   "metadata": {},
   "outputs": [],
   "source": [
    "# Unit Vector\n",
    "unit_vector = v / magnitude\n",
    "print(\"Unit vector of v:\", unit_vector)"
   ]
  },
  {
   "cell_type": "markdown",
   "id": "98ca1472-a1b1-4dc5-993e-c9784dcc86e1",
   "metadata": {},
   "source": [
    "> **TODO:** Calculate the magnitude of vector [1, 2, 2] and print it"
   ]
  },
  {
   "cell_type": "code",
   "execution_count": null,
   "id": "ec3bc542-4d32-48c7-9dd7-cc0f8b350601",
   "metadata": {},
   "outputs": [],
   "source": [
    "# v_new = np.array([1, 2, 2])\n",
    "# magnitude_new = ?\n",
    "# print(\"Magnitude of [1, 2, 2]:\", magnitude_new)"
   ]
  },
  {
   "cell_type": "code",
   "execution_count": null,
   "id": "c2c49964-b0c4-48e1-9dba-b5fe0b59e70f",
   "metadata": {},
   "outputs": [],
   "source": [
    "# Vector Transpose\n",
    "v_row = np.array([1, 2, 3])\n",
    "v_col = v_row.reshape((3, 1))\n",
    "print(\"Row vector v_row:\", v_row)\n",
    "print(\"Column vector v_col:\\n\", v_col)"
   ]
  },
  {
   "cell_type": "markdown",
   "id": "65cdf49c-ec39-4470-a92d-bb91632daf25",
   "metadata": {},
   "source": [
    "> **TODO:** Transpose `v_row` and print it"
   ]
  },
  {
   "cell_type": "code",
   "execution_count": null,
   "id": "77caeec1-2711-449a-a9b6-9780c81bb8f2",
   "metadata": {},
   "outputs": [],
   "source": [
    "# v_row_transposed = ?\n",
    "# print(\"Transpose of v_row:\", v_row_transposed)"
   ]
  },
  {
   "cell_type": "code",
   "execution_count": null,
   "id": "ed83246c-3960-4b43-93a9-3ec0c6c19b32",
   "metadata": {},
   "outputs": [],
   "source": [
    "# Inner Product\n",
    "a = np.array([1, 2, 3, 4])\n",
    "b = np.array([5, 6, 7, 8])\n",
    "inner_product = np.dot(a, b)\n",
    "print(\"Inner product of a and b:\", inner_product)"
   ]
  },
  {
   "cell_type": "markdown",
   "id": "4bf14692-c18a-4987-8432-606ba4363d5b",
   "metadata": {},
   "source": [
    "> **TODO:** Calculate the inner product of vectors `[1, 0, 0]` and `[0, 1, 0]` and print it"
   ]
  },
  {
   "cell_type": "code",
   "execution_count": null,
   "id": "8ceb1e0e-bb93-48ae-8f00-6b74bb569214",
   "metadata": {},
   "outputs": [],
   "source": [
    "# a_new = np.array([1, 0, 0])\n",
    "# b_new = np.array([0, 1, 0])\n",
    "# inner_product_new = ?\n",
    "# print(\"Inner product of [1, 0, 0] and [0, 1, 0]:\", inner_product_new)"
   ]
  },
  {
   "cell_type": "code",
   "execution_count": null,
   "id": "a56accf2-3693-4f82-9be0-b7d5fae5625b",
   "metadata": {},
   "outputs": [],
   "source": [
    "# Outer Product"
   ]
  },
  {
   "cell_type": "markdown",
   "id": "c89899a3-72d2-4620-8432-5a3ab2c50a44",
   "metadata": {},
   "source": [
    "$\\mathbf{a} \\otimes \\mathbf{b} = \\begin{bmatrix}\n",
    "a_1 \\\\\n",
    "a_2 \\\\\n",
    "\\vdots \\\\\n",
    "a_m\n",
    "\\end{bmatrix}\n",
    "\\begin{bmatrix}\n",
    "b_1 & b_2 & \\cdots & b_n\n",
    "\\end{bmatrix} = \\begin{bmatrix}\n",
    "a_1 b_1 & a_1 b_2 & \\cdots & a_1 b_n \\\\\n",
    "a_2 b_1 & a_2 b_2 & \\cdots & a_2 b_n \\\\\n",
    "\\vdots & \\vdots & \\ddots & \\vdots \\\\\n",
    "a_m b_1 & a_m b_2 & \\cdots & a_m b_n\n",
    "\\end{bmatrix}$"
   ]
  },
  {
   "cell_type": "code",
   "execution_count": null,
   "id": "15832c23-e6c8-46cd-83ef-110ebf2b6b74",
   "metadata": {},
   "outputs": [],
   "source": [
    "outer_product = np.outer(a, b)\n",
    "print(\"Outer product of a and b:\\n\", outer_product)"
   ]
  },
  {
   "cell_type": "markdown",
   "id": "4bd0e385-f6d2-480f-9252-fe3c9cfe364c",
   "metadata": {},
   "source": [
    "> **TODO:** Calculate the outer product of vectors `[1, 2]` and `[3, 4]` and print it"
   ]
  },
  {
   "cell_type": "code",
   "execution_count": null,
   "id": "d9f71894-5015-4ae7-aa22-3c35d8c9ec3f",
   "metadata": {},
   "outputs": [],
   "source": [
    "# a_new = np.array([1, 2])\n",
    "# b_new = np.array([3, 4])\n",
    "# outer_product_new = ?\n",
    "# print(\"Outer product of [1, 2] and [3, 4]:\\n\", outer_product_new)"
   ]
  },
  {
   "cell_type": "code",
   "execution_count": null,
   "id": "c8c08e4f-8977-49d4-a9dc-e2aa4f1580f5",
   "metadata": {},
   "outputs": [],
   "source": [
    "# Cross Product\n",
    "a = np.array([1, 0, 0])\n",
    "b = np.array([0, 1, 0])\n",
    "cross_product = np.cross(a, b)\n",
    "print(\"Cross product of a and b:\", cross_product)"
   ]
  },
  {
   "cell_type": "markdown",
   "id": "b66b28ed-e2ba-4972-9bc1-41483e2a77a9",
   "metadata": {},
   "source": [
    "> **TODO:** Calculate the cross product of vectors `[1, 1, 0]` and `[1, 0, 0]` and print it"
   ]
  },
  {
   "cell_type": "code",
   "execution_count": null,
   "id": "76ac24d0-57b5-4b52-b278-964c780a85aa",
   "metadata": {},
   "outputs": [],
   "source": [
    "# a_new = np.array([1, 1, 0])\n",
    "# b_new = np.array([1, 0, 0])\n",
    "# cross_product_new = ?\n",
    "# print(\"Cross product of [1, 1, 0] and [1, 0, 0]:\", cross_product_new)"
   ]
  },
  {
   "cell_type": "markdown",
   "id": "2bdcecdd-3509-4ee2-8609-48e54821f34d",
   "metadata": {},
   "source": [
    "## Matrix Multiplication"
   ]
  },
  {
   "cell_type": "code",
   "execution_count": null,
   "id": "5d79f313-c32c-450c-a206-0eeccff65b78",
   "metadata": {},
   "outputs": [],
   "source": [
    "# Properties of Matrix Multiplication\n",
    "A = np.array([[1, 2], [3, 4]])\n",
    "B = np.array([[5, 6], [7, 8]])\n",
    "C = np.array([[9, 10], [11, 12]])\n",
    "\n",
    "# Associative\n",
    "print(\"Associative property (AB)C == A(BC):\", np.allclose((A @ B) @ C, A @ (B @ C)))\n",
    "\n",
    "# Distributive\n",
    "print(\"Distributive property A(B + C) == AB + AC:\", np.allclose(A @ (B + C), A @ B + A @ C))\n",
    "print(\"Distributive property (A + B)C == AC + BC:\", np.allclose((A + B) @ C, A @ C + B @ C))\n",
    "\n",
    "# Not Commutative\n",
    "print(\"Not commutative AB != BA:\", not np.allclose(A @ B, B @ A))"
   ]
  },
  {
   "cell_type": "markdown",
   "id": "a17a528a-0e69-430f-96b8-08cb47959cf2",
   "metadata": {},
   "source": [
    "## Matrix Multiplication in NumPy"
   ]
  },
  {
   "cell_type": "code",
   "execution_count": null,
   "id": "cc73f82b-ce54-4a84-aa51-d1128e10fdcf",
   "metadata": {},
   "outputs": [],
   "source": [
    "# Using np.dot and np.matmul\n",
    "print(\"A @ B using np.dot:\\n\", np.dot(A, B))\n",
    "print(\"A @ B using np.matmul:\\n\", np.matmul(A, B))\n",
    "print(\"A @ B using @ operator:\\n\", A @ B)"
   ]
  },
  {
   "cell_type": "markdown",
   "id": "a3d41fb8-1956-4e96-b6c9-1c1bbcee76a8",
   "metadata": {},
   "source": [
    "> **TODO:** Verify that `np.dot` and `np.matmul` produce the same result for matrix multiplication"
   ]
  },
  {
   "cell_type": "code",
   "execution_count": null,
   "id": "b93c7aa3-2766-4563-b2bf-6f3684f3ca40",
   "metadata": {},
   "outputs": [],
   "source": [
    "# print(\"np.dot(A, B) == np.matmul(A, B):\", ?)"
   ]
  },
  {
   "cell_type": "markdown",
   "id": "a97dece3-b561-4d66-9912-4712ef2d0ba7",
   "metadata": {},
   "source": [
    "## Kronecker Product\n",
    "$\\begin{bmatrix}\n",
    "    1 & 2 \\\\\n",
    "    3 & 4 \\\\\n",
    "  \\end{bmatrix} \\otimes\n",
    "  \\begin{bmatrix}\n",
    "    0 & 5 \\\\\n",
    "    6 & 7 \\\\\n",
    "  \\end{bmatrix} =\n",
    "  \\begin{bmatrix}\n",
    "    1 \\begin{bmatrix}\n",
    "      0 & 5 \\\\\n",
    "      6 & 7 \\\\\n",
    "    \\end{bmatrix} & \n",
    "    2 \\begin{bmatrix}\n",
    "      0 & 5 \\\\\n",
    "      6 & 7 \\\\\n",
    "    \\end{bmatrix} \\\\\n",
    "    3 \\begin{bmatrix}\n",
    "      0 & 5 \\\\\n",
    "      6 & 7 \\\\\n",
    "    \\end{bmatrix} & \n",
    "    4 \\begin{bmatrix}\n",
    "      0 & 5 \\\\\n",
    "      6 & 7 \\\\\n",
    "    \\end{bmatrix} \\\\\n",
    "  \\end{bmatrix} =\n",
    "  \\left[\\begin{array}{cc|cc}\n",
    "    1\\times 0 & 1\\times 5 & 2\\times 0 & 2\\times 5 \\\\\n",
    "    1\\times 6 & 1\\times 7 & 2\\times 6 & 2\\times 7 \\\\ \\hline\n",
    "    3\\times 0 & 3\\times 5 & 4\\times 0 & 4\\times 5 \\\\\n",
    "    3\\times 6 & 3\\times 7 & 4\\times 6 & 4\\times 7 \\\\\n",
    "  \\end{array}\\right] =\n",
    "  \\left[\\begin{array}{cc|cc}\n",
    "     0 &  5 &  0 & 10 \\\\\n",
    "     6 &  7 & 12 & 14 \\\\ \\hline\n",
    "     0 & 15 &  0 & 20 \\\\\n",
    "    18 & 21 & 24 & 28\n",
    "  \\end{array}\\right].$"
   ]
  },
  {
   "cell_type": "code",
   "execution_count": null,
   "id": "388bca2e-acd3-44af-b2cd-b7599a25fe6a",
   "metadata": {},
   "outputs": [],
   "source": [
    "A = np.array([[1, 2], [3, 4]])\n",
    "B = np.array([[0, 5], [6, 7]])\n",
    "Kronecker_product = np.kron(A, B)\n",
    "print(\"Kronecker product of A and B:\\n\", Kronecker_product)"
   ]
  },
  {
   "cell_type": "markdown",
   "id": "e4f61d7b-f79e-41e0-8d15-e4300b2f6f83",
   "metadata": {},
   "source": [
    "> **TODO:** Calculate the Kronecker product of two matrices and print the result"
   ]
  },
  {
   "cell_type": "code",
   "execution_count": null,
   "id": "7a1d8d45-7204-4258-a8c1-c201edcfbbed",
   "metadata": {},
   "outputs": [],
   "source": [
    "# C = np.array([[9, 10], [11, 12]])\n",
    "# D = np.array([[13, 14], [15, 16]])\n",
    "# Kronecker_product_new = ?\n",
    "# print(\"Kronecker product of C and D:\\n\", Kronecker_product_new)"
   ]
  },
  {
   "cell_type": "markdown",
   "id": "45fe02ff-93d3-4478-a672-0b23366be23c",
   "metadata": {},
   "source": [
    "# Part 2"
   ]
  },
  {
   "cell_type": "code",
   "execution_count": null,
   "id": "0058287a-49ff-4723-be93-2753effd8078",
   "metadata": {},
   "outputs": [],
   "source": [
    "from scipy.linalg import svd\n",
    "from sklearn import datasets\n",
    "from scipy.spatial.distance import mahalanobis\n",
    "from scipy.special import rel_entr"
   ]
  },
  {
   "cell_type": "markdown",
   "id": "41b67958-8488-4666-9e4e-b82b0d77859e",
   "metadata": {},
   "source": [
    "## Square Matrices"
   ]
  },
  {
   "cell_type": "code",
   "execution_count": null,
   "id": "cc2db91a-2512-4b21-afe4-4dc0bcba38c6",
   "metadata": {},
   "outputs": [],
   "source": [
    "# Example of a square matrix\n",
    "A = np.array([[1, 2], [3, 4]])\n",
    "print(\"Square Matrix A:\\n\", A)"
   ]
  },
  {
   "cell_type": "markdown",
   "id": "2e4daaa1-86ad-44a0-a934-c9e4df92e13d",
   "metadata": {},
   "source": [
    "## Transpose, Trace, and Powers"
   ]
  },
  {
   "cell_type": "code",
   "execution_count": null,
   "id": "3ea1ed3e-0289-4ca9-bc31-4af5cac93d41",
   "metadata": {},
   "outputs": [],
   "source": [
    "# Transpose\n",
    "A_transpose = A.T\n",
    "print(\"Transpose of A:\\n\", A_transpose)"
   ]
  },
  {
   "cell_type": "code",
   "execution_count": null,
   "id": "2d808f10-5933-463d-996c-cece945a866b",
   "metadata": {},
   "outputs": [],
   "source": [
    "# Trace\n",
    "A_trace = np.trace(A)\n",
    "print(\"Trace of A:\", A_trace)"
   ]
  },
  {
   "cell_type": "code",
   "execution_count": null,
   "id": "cc3f11a2-c907-47c4-a54f-f9bf7f5210ba",
   "metadata": {},
   "outputs": [],
   "source": [
    "# Matrix Powers"
   ]
  },
  {
   "cell_type": "markdown",
   "id": "afc7cac4-4285-4674-8fb4-cb1eb71df825",
   "metadata": {},
   "source": [
    "<img src=\"https://www.andreaminini.net/data/andreaminininet/matrix-power-amnet-8.gif\" alt=\"matrix_power\" width=350/>"
   ]
  },
  {
   "cell_type": "code",
   "execution_count": null,
   "id": "6926faa3-a3a3-4bc6-8e62-8787bdfa5111",
   "metadata": {},
   "outputs": [],
   "source": [
    "A_squared = np.linalg.matrix_power(A, 2)\n",
    "print(\"A squared:\\n\", A_squared)"
   ]
  },
  {
   "attachments": {},
   "cell_type": "markdown",
   "id": "78e72c57-c428-4ade-b605-ebd50f267541",
   "metadata": {},
   "source": [
    "> **TODO:** Calculate the power of matrix B with a negative exponent <br>\n",
    "> Hint: $A^{-3} = A^{-1} A^{-1} A^{-1}$"
   ]
  },
  {
   "cell_type": "code",
   "execution_count": null,
   "id": "e7bc448b-3a31-4788-8637-6e021d08a4c3",
   "metadata": {},
   "outputs": [],
   "source": [
    "# B_neg3 = ?\n",
    "# print(\"B squared:\\n\", B_neg3)"
   ]
  },
  {
   "cell_type": "markdown",
   "id": "45da4ea3-e21d-4dc5-938f-67a15158ba87",
   "metadata": {},
   "source": [
    "## Special Square Matrices"
   ]
  },
  {
   "cell_type": "code",
   "execution_count": null,
   "id": "1ccede8f-6e55-4a6d-a710-788b36881c13",
   "metadata": {},
   "outputs": [],
   "source": [
    "# Identity Matrix\n",
    "I = np.eye(2)\n",
    "print(\"2x2 Identity Matrix:\\n\", I)"
   ]
  },
  {
   "cell_type": "markdown",
   "id": "83065adf-9077-4ecb-8f58-df244c3900ff",
   "metadata": {},
   "source": [
    "> **TODO:** Create a 3x3 identity matrix and print it"
   ]
  },
  {
   "cell_type": "code",
   "execution_count": null,
   "id": "a5dfbc39-3e6c-432d-b5fb-c9a4992cd75d",
   "metadata": {},
   "outputs": [],
   "source": [
    "# I_3 = ?\n",
    "# print(\"3x3 Identity Matrix:\\n\", I_3)"
   ]
  },
  {
   "cell_type": "markdown",
   "id": "1148b55d-52aa-432c-9418-9ba573024bca",
   "metadata": {},
   "source": [
    "## Determinants\n"
   ]
  },
  {
   "cell_type": "code",
   "execution_count": null,
   "id": "d77d5b32-fafa-4b0b-a7b9-003a4dc08d15",
   "metadata": {},
   "outputs": [],
   "source": [
    "# Determinant of A\n",
    "det_A = np.linalg.det(A)\n",
    "print(\"Determinant of A:\", det_A)"
   ]
  },
  {
   "cell_type": "markdown",
   "id": "9e9d4d04-9c7c-4879-af20-3ee16746bd9c",
   "metadata": {},
   "source": [
    "> **TODO:** Calculate the determinant of matrix B and print it"
   ]
  },
  {
   "cell_type": "code",
   "execution_count": null,
   "id": "57e9433a-059b-48a8-9f4d-e7bf055dba20",
   "metadata": {},
   "outputs": [],
   "source": [
    "# det_B = ?\n",
    "# print(\"Determinant of B:\", det_B)"
   ]
  },
  {
   "cell_type": "markdown",
   "id": "21fcfeb8-d7a8-43ce-a765-9168776813eb",
   "metadata": {},
   "source": [
    "## Inverses"
   ]
  },
  {
   "cell_type": "code",
   "execution_count": null,
   "id": "d104f0b1-a001-49fa-a4f9-27bf5d73518c",
   "metadata": {},
   "outputs": [],
   "source": [
    "# Inverse of A\n",
    "A_inv = np.linalg.inv(A)\n",
    "print(\"Inverse of A:\\n\", A_inv)"
   ]
  },
  {
   "cell_type": "markdown",
   "id": "68bf63c2-69cc-482f-8f3f-7dfe16bb3a44",
   "metadata": {},
   "source": [
    "> **TODO:** Calculate the inverse of matrix B and print it"
   ]
  },
  {
   "cell_type": "code",
   "execution_count": null,
   "id": "79a733b8-5751-4e7d-aeb1-12212c39d202",
   "metadata": {},
   "outputs": [],
   "source": [
    "# B_inv = ?\n",
    "# print(\"Inverse of B:\\n\", B_inv)"
   ]
  }
 ],
 "metadata": {
  "kernelspec": {
   "display_name": "Python [conda env:base] *",
   "language": "python",
   "name": "conda-base-py"
  },
  "language_info": {
   "codemirror_mode": {
    "name": "ipython",
    "version": 3
   },
   "file_extension": ".py",
   "mimetype": "text/x-python",
   "name": "python",
   "nbconvert_exporter": "python",
   "pygments_lexer": "ipython3",
   "version": "3.12.3"
  }
 },
 "nbformat": 4,
 "nbformat_minor": 5
}
